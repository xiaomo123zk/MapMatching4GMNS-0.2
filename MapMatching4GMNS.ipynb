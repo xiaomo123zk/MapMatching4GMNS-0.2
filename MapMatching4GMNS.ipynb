{
  "nbformat": 4,
  "nbformat_minor": 0,
  "metadata": {
    "colab": {
      "name": "MapMatching4GMNS.ipynb",
      "provenance": [],
      "collapsed_sections": [],
      "toc_visible": true,
      "authorship_tag": "ABX9TyNltDi/JkxQrgnlau7/mG3P",
      "include_colab_link": true
    },
    "kernelspec": {
      "name": "python3",
      "display_name": "Python 3"
    },
    "language_info": {
      "name": "python"
    }
  },
  "cells": [
    {
      "cell_type": "markdown",
      "metadata": {
        "id": "view-in-github",
        "colab_type": "text"
      },
      "source": [
        "<a href=\"https://colab.research.google.com/github/xiaomo123zk/MapMatching4GMNS-0.2/blob/main/MapMatching4GMNS.ipynb\" target=\"_parent\"><img src=\"https://colab.research.google.com/assets/colab-badge.svg\" alt=\"Open In Colab\"/></a>"
      ]
    },
    {
      "cell_type": "markdown",
      "metadata": {
        "id": "HjSUZNcY6Huu"
      },
      "source": [
        "# **MapMatching4GMNS**\n",
        "\n",
        "MapMatching4GMNS is an open-source, cross-platform, lightweight, and fast Python\n",
        "MapMatching engine for maping GPS traces to the underlying network using General\n",
        "Modeling Network Specification encoded in [GMNS]. Its most likely path\n",
        "finding algorithm takes about 0.02 seconds to process one GPS trace with 50\n",
        "location points in a large-scale network with 10K nodes. Based on input network\n",
        "and given GPS trajectory data, the map-matching program aims to find most likely\n",
        "route in terms of node sequence in the underlying network."
      ]
    },
    {
      "cell_type": "markdown",
      "metadata": {
        "id": "m31wPwOf6LyN"
      },
      "source": [
        "## 1. MapMatching4GMNS modeling"
      ]
    },
    {
      "cell_type": "code",
      "metadata": {
        "colab": {
          "base_uri": "https://localhost:8080/"
        },
        "id": "qj5fvt6T6Nfk",
        "outputId": "adc28476-cf35-4237-d27b-ac9d71f510d6"
      },
      "source": [
        "# \"\"\"install MapMatching4GMNS\"\"\"\n",
        "!pip install MapMatching4GMNS --upgrade"
      ],
      "execution_count": null,
      "outputs": [
        {
          "output_type": "stream",
          "text": [
            "Collecting MapMatching4GMNS\n",
            "\u001b[?25l  Downloading https://files.pythonhosted.org/packages/f0/19/c43e6d63a11651ef015509949e4a6d2a33238a81462d12aed41e0846a68c/MapMatching4GMNS-0.2.14.tar.gz (251kB)\n",
            "\u001b[K     |████████████████████████████████| 256kB 3.9MB/s \n",
            "\u001b[?25hBuilding wheels for collected packages: MapMatching4GMNS\n",
            "  Building wheel for MapMatching4GMNS (setup.py) ... \u001b[?25l\u001b[?25hdone\n",
            "  Created wheel for MapMatching4GMNS: filename=MapMatching4GMNS-0.2.14-cp37-none-any.whl size=252095 sha256=e8aff89b8458d91b498d4647081fc7da33792c1170eded5bc45b1aa0d6d72b9d\n",
            "  Stored in directory: /root/.cache/pip/wheels/e0/3a/c2/56456b71c5faf1dfa91c05d87cb7020ff69d119a2faa923aa5\n",
            "Successfully built MapMatching4GMNS\n",
            "Installing collected packages: MapMatching4GMNS\n",
            "Successfully installed MapMatching4GMNS-0.2.14\n"
          ],
          "name": "stdout"
        }
      ]
    },
    {
      "cell_type": "code",
      "metadata": {
        "id": "YKybMq-r6W79",
        "colab": {
          "base_uri": "https://localhost:8080/"
        },
        "outputId": "49f073f1-b0af-4c8d-9bba-84a5ab73f704"
      },
      "source": [
        "from MapMatching4GMNS import *\n",
        "import time\n",
        "import os"
      ],
      "execution_count": null,
      "outputs": [
        {
          "output_type": "stream",
          "text": [
            "MapMatching4GMNS, version 0.2.14\n"
          ],
          "name": "stdout"
        }
      ]
    },
    {
      "cell_type": "code",
      "metadata": {
        "colab": {
          "base_uri": "https://localhost:8080/"
        },
        "id": "s8p2zqZsHTYu",
        "outputId": "cb0ae815-c657-49db-b981-9a82d6706580"
      },
      "source": [
        "MapMatching4GMNS.download_sample_data_sets_from_network()"
      ],
      "execution_count": null,
      "outputs": [
        {
          "output_type": "stream",
          "text": [
            "downloading starts\n",
            "downloading completes\n",
            "check /content/master for downloaded data sets\n"
          ],
          "name": "stdout"
        }
      ]
    },
    {
      "cell_type": "code",
      "metadata": {
        "colab": {
          "base_uri": "https://localhost:8080/"
        },
        "id": "KGUM7oCrWIDY",
        "outputId": "f5dbd6cd-f463-48a4-a2a5-a4f0a619e135"
      },
      "source": [
        "if __name__ == \"__main__\":\n",
        "    #If the output data exists, please remove.\n",
        "    if(os.path.exists(\"route.csv\")):\n",
        "      os.remove(\"route.csv\")\n",
        "\n",
        "    start = time.time()\n",
        "    from MapMatching4GMNS import *\n",
        "    MapMatching4GMNS.map_match()\n",
        "    end = time.time()\n",
        "    \n",
        "    print('MapMatching4GMNS time cost: %.6f seconds' % (end - start))\n",
        "    print(\"The output data is generated!\")"
      ],
      "execution_count": null,
      "outputs": [
        {
          "output_type": "stream",
          "text": [
            "call MapMatching4GMNS  dynamic library\n",
            "\\MapMatching4GMNS run starts\n",
            "\\MapMatching4GMNS run completes\n",
            "MapMatching4GMNS time cost: 0.703916 seconds\n",
            "The output data is generated!\n"
          ],
          "name": "stdout"
        }
      ]
    },
    {
      "cell_type": "markdown",
      "metadata": {
        "id": "iuvhlU8M6ZPG"
      },
      "source": [
        "if you use google.colab, you can donwload result data"
      ]
    },
    {
      "cell_type": "code",
      "metadata": {
        "colab": {
          "base_uri": "https://localhost:8080/",
          "height": 17
        },
        "id": "xA_cV2fS6Z7X",
        "outputId": "850cd49e-7435-4bba-a026-008e81db2418"
      },
      "source": [
        "from google.colab import files\n",
        "if(os.path.exists(\"route.csv\")):\n",
        " files.download(\"/content/route.csv\")"
      ],
      "execution_count": null,
      "outputs": [
        {
          "output_type": "display_data",
          "data": {
            "application/javascript": [
              "\n",
              "    async function download(id, filename, size) {\n",
              "      if (!google.colab.kernel.accessAllowed) {\n",
              "        return;\n",
              "      }\n",
              "      const div = document.createElement('div');\n",
              "      const label = document.createElement('label');\n",
              "      label.textContent = `Downloading \"${filename}\": `;\n",
              "      div.appendChild(label);\n",
              "      const progress = document.createElement('progress');\n",
              "      progress.max = size;\n",
              "      div.appendChild(progress);\n",
              "      document.body.appendChild(div);\n",
              "\n",
              "      const buffers = [];\n",
              "      let downloaded = 0;\n",
              "\n",
              "      const channel = await google.colab.kernel.comms.open(id);\n",
              "      // Send a message to notify the kernel that we're ready.\n",
              "      channel.send({})\n",
              "\n",
              "      for await (const message of channel.messages) {\n",
              "        // Send a message to notify the kernel that we're ready.\n",
              "        channel.send({})\n",
              "        if (message.buffers) {\n",
              "          for (const buffer of message.buffers) {\n",
              "            buffers.push(buffer);\n",
              "            downloaded += buffer.byteLength;\n",
              "            progress.value = downloaded;\n",
              "          }\n",
              "        }\n",
              "      }\n",
              "      const blob = new Blob(buffers, {type: 'application/binary'});\n",
              "      const a = document.createElement('a');\n",
              "      a.href = window.URL.createObjectURL(blob);\n",
              "      a.download = filename;\n",
              "      div.appendChild(a);\n",
              "      a.click();\n",
              "      div.remove();\n",
              "    }\n",
              "  "
            ],
            "text/plain": [
              "<IPython.core.display.Javascript object>"
            ]
          },
          "metadata": {
            "tags": []
          }
        },
        {
          "output_type": "display_data",
          "data": {
            "application/javascript": [
              "download(\"download_e84a2cd9-55d1-4610-a5f4-2764ae7f0a35\", \"agent.csv\", 5873)"
            ],
            "text/plain": [
              "<IPython.core.display.Javascript object>"
            ]
          },
          "metadata": {
            "tags": []
          }
        },
        {
          "output_type": "display_data",
          "data": {
            "application/javascript": [
              "\n",
              "    async function download(id, filename, size) {\n",
              "      if (!google.colab.kernel.accessAllowed) {\n",
              "        return;\n",
              "      }\n",
              "      const div = document.createElement('div');\n",
              "      const label = document.createElement('label');\n",
              "      label.textContent = `Downloading \"${filename}\": `;\n",
              "      div.appendChild(label);\n",
              "      const progress = document.createElement('progress');\n",
              "      progress.max = size;\n",
              "      div.appendChild(progress);\n",
              "      document.body.appendChild(div);\n",
              "\n",
              "      const buffers = [];\n",
              "      let downloaded = 0;\n",
              "\n",
              "      const channel = await google.colab.kernel.comms.open(id);\n",
              "      // Send a message to notify the kernel that we're ready.\n",
              "      channel.send({})\n",
              "\n",
              "      for await (const message of channel.messages) {\n",
              "        // Send a message to notify the kernel that we're ready.\n",
              "        channel.send({})\n",
              "        if (message.buffers) {\n",
              "          for (const buffer of message.buffers) {\n",
              "            buffers.push(buffer);\n",
              "            downloaded += buffer.byteLength;\n",
              "            progress.value = downloaded;\n",
              "          }\n",
              "        }\n",
              "      }\n",
              "      const blob = new Blob(buffers, {type: 'application/binary'});\n",
              "      const a = document.createElement('a');\n",
              "      a.href = window.URL.createObjectURL(blob);\n",
              "      a.download = filename;\n",
              "      div.appendChild(a);\n",
              "      a.click();\n",
              "      div.remove();\n",
              "    }\n",
              "  "
            ],
            "text/plain": [
              "<IPython.core.display.Javascript object>"
            ]
          },
          "metadata": {
            "tags": []
          }
        },
        {
          "output_type": "display_data",
          "data": {
            "application/javascript": [
              "download(\"download_01bf3bcd-771e-445f-bf34-a4294283b891\", \"input_agent.csv\", 5017)"
            ],
            "text/plain": [
              "<IPython.core.display.Javascript object>"
            ]
          },
          "metadata": {
            "tags": []
          }
        },
        {
          "output_type": "display_data",
          "data": {
            "application/javascript": [
              "\n",
              "    async function download(id, filename, size) {\n",
              "      if (!google.colab.kernel.accessAllowed) {\n",
              "        return;\n",
              "      }\n",
              "      const div = document.createElement('div');\n",
              "      const label = document.createElement('label');\n",
              "      label.textContent = `Downloading \"${filename}\": `;\n",
              "      div.appendChild(label);\n",
              "      const progress = document.createElement('progress');\n",
              "      progress.max = size;\n",
              "      div.appendChild(progress);\n",
              "      document.body.appendChild(div);\n",
              "\n",
              "      const buffers = [];\n",
              "      let downloaded = 0;\n",
              "\n",
              "      const channel = await google.colab.kernel.comms.open(id);\n",
              "      // Send a message to notify the kernel that we're ready.\n",
              "      channel.send({})\n",
              "\n",
              "      for await (const message of channel.messages) {\n",
              "        // Send a message to notify the kernel that we're ready.\n",
              "        channel.send({})\n",
              "        if (message.buffers) {\n",
              "          for (const buffer of message.buffers) {\n",
              "            buffers.push(buffer);\n",
              "            downloaded += buffer.byteLength;\n",
              "            progress.value = downloaded;\n",
              "          }\n",
              "        }\n",
              "      }\n",
              "      const blob = new Blob(buffers, {type: 'application/binary'});\n",
              "      const a = document.createElement('a');\n",
              "      a.href = window.URL.createObjectURL(blob);\n",
              "      a.download = filename;\n",
              "      div.appendChild(a);\n",
              "      a.click();\n",
              "      div.remove();\n",
              "    }\n",
              "  "
            ],
            "text/plain": [
              "<IPython.core.display.Javascript object>"
            ]
          },
          "metadata": {
            "tags": []
          }
        },
        {
          "output_type": "display_data",
          "data": {
            "application/javascript": [
              "download(\"download_b3ba9dae-5fa8-4fbb-b212-606a9280e573\", \"link_performance.csv\", 8734)"
            ],
            "text/plain": [
              "<IPython.core.display.Javascript object>"
            ]
          },
          "metadata": {
            "tags": []
          }
        }
      ]
    }
  ]
}