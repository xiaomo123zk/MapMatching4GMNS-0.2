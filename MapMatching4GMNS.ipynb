{
 "cells": [
  {
   "cell_type": "markdown",
   "metadata": {
    "colab_type": "text",
    "id": "view-in-github"
   },
   "source": [
    "<a href=\"https://colab.research.google.com/github/asu-trans-ai-lab/MapMatching4GMNS/blob/master/MapMatching4GMNS.ipynb\" target=\"_parent\"><img src=\"https://colab.research.google.com/assets/colab-badge.svg\" alt=\"Open In Colab\"/></a>"
   ]
  },
  {
   "cell_type": "markdown",
   "metadata": {
    "id": "HjSUZNcY6Huu"
   },
   "source": [
    "# **MapMatching4GMNS**\n",
    "\n",
    "MapMatching4GMNS is an open-source, cross-platform, lightweight, and fast Python\n",
    "MapMatching engine for maping GPS traces to the underlying network using General\n",
    "Modeling Network Specification encoded in [GMNS]. Its most likely path\n",
    "finding algorithm takes about 0.02 seconds to process one GPS trace with 50\n",
    "location points in a large-scale network with 10K nodes. Based on input network\n",
    "and given GPS trajectory data, the map-matching program aims to find most likely\n",
    "route in terms of node sequence in the underlying network."
   ]
  },
  {
   "cell_type": "markdown",
   "metadata": {
    "id": "m31wPwOf6LyN"
   },
   "source": [
    "## 1. MapMatching4GMNS modeling"
   ]
  },
  {
   "cell_type": "code",
   "execution_count": 1,
   "metadata": {
    "colab": {
     "base_uri": "https://localhost:8080/"
    },
    "id": "qj5fvt6T6Nfk",
    "outputId": "fd1fe0d6-1d16-46dc-b053-c6fddd55f740"
   },
   "outputs": [
    {
     "name": "stdout",
     "output_type": "stream",
     "text": [
      "Requirement already satisfied: MapMatching4GMNS in d:\\pack\\python\\anaconda3\\lib\\site-packages (0.2.13)\n",
      "Collecting MapMatching4GMNS\n",
      "  Downloading MapMatching4GMNS-0.2.15.tar.gz (7.3 MB)\n",
      "Building wheels for collected packages: MapMatching4GMNS\n",
      "  Building wheel for MapMatching4GMNS (setup.py): started\n",
      "  Building wheel for MapMatching4GMNS (setup.py): finished with status 'done'\n",
      "  Created wheel for MapMatching4GMNS: filename=MapMatching4GMNS-0.2.15-py3-none-any.whl size=204189 sha256=ca82b8e0ee5b8456b4ab84c4b50801be6f997367512662e1a4e245a6130c145b\n",
      "  Stored in directory: c:\\users\\zhangk\\appdata\\local\\pip\\cache\\wheels\\c8\\b3\\c8\\daa9a4cbf9b5e2690daf6609f4d632bc01bbd7dedb33158c15\n",
      "Successfully built MapMatching4GMNS\n",
      "Installing collected packages: MapMatching4GMNS\n",
      "  Attempting uninstall: MapMatching4GMNS\n",
      "    Found existing installation: MapMatching4GMNS 0.2.13\n",
      "    Uninstalling MapMatching4GMNS-0.2.13:\n",
      "      Successfully uninstalled MapMatching4GMNS-0.2.13\n",
      "Successfully installed MapMatching4GMNS-0.2.15\n"
     ]
    },
    {
     "name": "stderr",
     "output_type": "stream",
     "text": [
      "WARNING: You are using pip version 21.1.1; however, version 21.2.4 is available.\n",
      "You should consider upgrading via the 'd:\\pack\\python\\anaconda3\\python.exe -m pip install --upgrade pip' command.\n"
     ]
    }
   ],
   "source": [
    "# \"\"\"install MapMatching4GMNS\"\"\"\n",
    "!pip install MapMatching4GMNS --upgrade"
   ]
  },
  {
   "cell_type": "code",
   "execution_count": 2,
   "metadata": {
    "colab": {
     "base_uri": "https://localhost:8080/"
    },
    "id": "YKybMq-r6W79",
    "outputId": "55ec0463-8d9f-4524-8523-208ea196c44a"
   },
   "outputs": [
    {
     "name": "stdout",
     "output_type": "stream",
     "text": [
      "MapMatching4GMNS, version 0.2.15\n"
     ]
    }
   ],
   "source": [
    "from MapMatching4GMNS import *\n",
    "import time\n",
    "import os.path"
   ]
  },
  {
   "cell_type": "code",
   "execution_count": 3,
   "metadata": {
    "colab": {
     "base_uri": "https://localhost:8080/"
    },
    "id": "s8p2zqZsHTYu",
    "outputId": "12153006-386f-4ac8-d1ab-a633ef37b706"
   },
   "outputs": [
    {
     "name": "stdout",
     "output_type": "stream",
     "text": [
      "downloading starts\n"
     ]
    },
    {
     "name": "stderr",
     "output_type": "stream",
     "text": [
      "Exception in thread Exception in thread Thread-8:\n",
      "Traceback (most recent call last):\n",
      "  File \"E:\\pack2\\Anaconda\\tool\\lib\\site-packages\\urllib3\\connection.py\", line 159, in _new_conn\n",
      "Thread-9:\n",
      "Traceback (most recent call last):\n",
      "  File \"E:\\pack2\\Anaconda\\tool\\lib\\site-packages\\urllib3\\connection.py\", line 159, in _new_conn\n",
      "Exception in thread Thread-10:\n",
      "Traceback (most recent call last):\n",
      "  File \"E:\\pack2\\Anaconda\\tool\\lib\\site-packages\\urllib3\\connection.py\", line 159, in _new_conn\n",
      "    conn = connection.create_connection(\n",
      "      File \"E:\\pack2\\Anaconda\\tool\\lib\\site-packages\\urllib3\\util\\connection.py\", line 61, in create_connection\n",
      "conn = connection.create_connection(\n",
      "  File \"E:\\pack2\\Anaconda\\tool\\lib\\site-packages\\urllib3\\util\\connection.py\", line 61, in create_connection\n",
      "    conn = connection.create_connection(\n",
      "  File \"E:\\pack2\\Anaconda\\tool\\lib\\site-packages\\urllib3\\util\\connection.py\", line 61, in create_connection\n",
      "    for res in socket.getaddrinfo(host, port, family, socket.SOCK_STREAM):\n",
      "  File \"E:\\pack2\\Anaconda\\tool\\lib\\socket.py\", line 918, in getaddrinfo\n",
      "    for res in socket.getaddrinfo(host, port, family, socket.SOCK_STREAM):\n",
      "  File \"E:\\pack2\\Anaconda\\tool\\lib\\socket.py\", line 918, in getaddrinfo\n",
      "    for res in socket.getaddrinfo(host, port, family, socket.SOCK_STREAM):\n",
      "  File \"E:\\pack2\\Anaconda\\tool\\lib\\socket.py\", line 918, in getaddrinfo\n",
      "        for res in _socket.getaddrinfo(host, port, family, type, proto, flags):\n",
      "socket.gaierror: [Errno 11004] getaddrinfo failed\n",
      "\n",
      "During handling of the above exception, another exception occurred:\n",
      "\n",
      "Traceback (most recent call last):\n",
      "  File \"E:\\pack2\\Anaconda\\tool\\lib\\site-packages\\urllib3\\connectionpool.py\", line 670, in urlopen\n",
      "for res in _socket.getaddrinfo(host, port, family, type, proto, flags):\n",
      "socket.gaierror: [Errno 11004] getaddrinfo failed\n",
      "\n",
      "During handling of the above exception, another exception occurred:\n",
      "\n",
      "Traceback (most recent call last):\n",
      "  File \"E:\\pack2\\Anaconda\\tool\\lib\\site-packages\\urllib3\\connectionpool.py\", line 670, in urlopen\n",
      "    for res in _socket.getaddrinfo(host, port, family, type, proto, flags):\n",
      "socket.gaierror: [Errno 11004] getaddrinfo failed\n",
      "\n",
      "During handling of the above exception, another exception occurred:\n",
      "\n",
      "Traceback (most recent call last):\n",
      "  File \"E:\\pack2\\Anaconda\\tool\\lib\\site-packages\\urllib3\\connectionpool.py\", line 670, in urlopen\n",
      "    httplib_response = self._make_request(\n",
      "    httplib_response = self._make_request(    \n",
      "httplib_response = self._make_request(\n",
      "  File \"E:\\pack2\\Anaconda\\tool\\lib\\site-packages\\urllib3\\connectionpool.py\", line 381, in _make_request\n",
      "  File \"E:\\pack2\\Anaconda\\tool\\lib\\site-packages\\urllib3\\connectionpool.py\", line 381, in _make_request\n",
      "  File \"E:\\pack2\\Anaconda\\tool\\lib\\site-packages\\urllib3\\connectionpool.py\", line 381, in _make_request\n",
      "        self._validate_conn(conn)\n",
      "  File \"E:\\pack2\\Anaconda\\tool\\lib\\site-packages\\urllib3\\connectionpool.py\", line 976, in _validate_conn\n",
      "self._validate_conn(conn)\n",
      "  File \"E:\\pack2\\Anaconda\\tool\\lib\\site-packages\\urllib3\\connectionpool.py\", line 976, in _validate_conn\n",
      "        conn.connect()self._validate_conn(conn)\n",
      "  File \"E:\\pack2\\Anaconda\\tool\\lib\\site-packages\\urllib3\\connectionpool.py\", line 976, in _validate_conn\n",
      "\n",
      "      File \"E:\\pack2\\Anaconda\\tool\\lib\\site-packages\\urllib3\\connection.py\", line 308, in connect\n",
      "conn.connect()\n",
      "  File \"E:\\pack2\\Anaconda\\tool\\lib\\site-packages\\urllib3\\connection.py\", line 308, in connect\n",
      "        conn = self._new_conn()\n",
      "  File \"E:\\pack2\\Anaconda\\tool\\lib\\site-packages\\urllib3\\connection.py\", line 171, in _new_conn\n",
      "conn.connect()    conn = self._new_conn()\n",
      "  File \"E:\\pack2\\Anaconda\\tool\\lib\\site-packages\\urllib3\\connection.py\", line 171, in _new_conn\n",
      "\n",
      "  File \"E:\\pack2\\Anaconda\\tool\\lib\\site-packages\\urllib3\\connection.py\", line 308, in connect\n",
      "    raise NewConnectionError(    conn = self._new_conn()\n",
      "\n",
      "urllib3.exceptions.NewConnectionError: <urllib3.connection.HTTPSConnection object at 0x00000282BA163FA0>: Failed to establish a new connection: [Errno 11004] getaddrinfo failed\n",
      "\n",
      "During handling of the above exception, another exception occurred:\n",
      "\n",
      "Traceback (most recent call last):\n",
      "  File \"E:\\pack2\\Anaconda\\tool\\lib\\site-packages\\requests\\adapters.py\", line 439, in send\n",
      "    raise NewConnectionError(\n",
      "urllib3.exceptions.NewConnectionError: <urllib3.connection.HTTPSConnection object at 0x00000282BA176190>: Failed to establish a new connection: [Errno 11004] getaddrinfo failed\n",
      "\n",
      "During handling of the above exception, another exception occurred:\n",
      "\n",
      "Traceback (most recent call last):\n",
      "  File \"E:\\pack2\\Anaconda\\tool\\lib\\site-packages\\requests\\adapters.py\", line 439, in send\n",
      "  File \"E:\\pack2\\Anaconda\\tool\\lib\\site-packages\\urllib3\\connection.py\", line 171, in _new_conn\n",
      "    raise NewConnectionError(\n",
      "urllib3.exceptions.NewConnectionError: <urllib3.connection.HTTPSConnection object at 0x00000282BA1762E0>: Failed to establish a new connection: [Errno 11004] getaddrinfo failed\n",
      "\n",
      "During handling of the above exception, another exception occurred:\n",
      "\n",
      "Traceback (most recent call last):\n",
      "  File \"E:\\pack2\\Anaconda\\tool\\lib\\site-packages\\requests\\adapters.py\", line 439, in send\n",
      "        resp = conn.urlopen(\n",
      "  File \"E:\\pack2\\Anaconda\\tool\\lib\\site-packages\\urllib3\\connectionpool.py\", line 724, in urlopen\n",
      "resp = conn.urlopen(\n",
      "  File \"E:\\pack2\\Anaconda\\tool\\lib\\site-packages\\urllib3\\connectionpool.py\", line 724, in urlopen\n",
      "        retries = retries.increment(\n",
      "  File \"E:\\pack2\\Anaconda\\tool\\lib\\site-packages\\urllib3\\util\\retry.py\", line 439, in increment\n",
      "resp = conn.urlopen(\n",
      "      File \"E:\\pack2\\Anaconda\\tool\\lib\\site-packages\\urllib3\\connectionpool.py\", line 724, in urlopen\n",
      "retries = retries.increment(\n",
      "  File \"E:\\pack2\\Anaconda\\tool\\lib\\site-packages\\urllib3\\util\\retry.py\", line 439, in increment\n",
      "    retries = retries.increment(\n",
      "  File \"E:\\pack2\\Anaconda\\tool\\lib\\site-packages\\urllib3\\util\\retry.py\", line 439, in increment\n",
      "        raise MaxRetryError(_pool, url, error or ResponseError(cause))\n",
      "urllib3.exceptions.MaxRetryError    raise MaxRetryError(_pool, url, error or ResponseError(cause))\n",
      "urllib3.exceptions.MaxRetryError: HTTPSConnectionPool(host='raw.githubusercontent.com', port=443): Max retries exceeded with url: /asu-trans-ai-lab/MapMatching4GMNS/master/release/link.csv (Caused by NewConnectionError('<urllib3.connection.HTTPSConnection object at 0x00000282BA163FA0>: Failed to establish a new connection: [Errno 11004] getaddrinfo failed'))\n",
      ": \n",
      "During handling of the above exception, another exception occurred:\n",
      "\n",
      "Traceback (most recent call last):\n",
      "  File \"E:\\code\\zhou8\\MapMatching4GMNS\\MapMatching4GMNS\\MapMatching4GMNS.py\", line 64, in _download_url\n",
      "HTTPSConnectionPool(host='raw.githubusercontent.com', port=443): Max retries exceeded with url: /asu-trans-ai-lab/MapMatching4GMNS/master/release/trace.csv (Caused by NewConnectionError('<urllib3.connection.HTTPSConnection object at 0x00000282BA1762E0>: Failed to establish a new connection: [Errno 11004] getaddrinfo failed'))\n",
      "\n",
      "During handling of the above exception, another exception occurred:\n",
      "\n",
      "Traceback (most recent call last):\n",
      "  File \"E:\\code\\zhou8\\MapMatching4GMNS\\MapMatching4GMNS\\MapMatching4GMNS.py\", line 64, in _download_url\n",
      "raise MaxRetryError(_pool, url, error or ResponseError(cause))\n",
      "urllib3.exceptions.MaxRetryError:     r = requests.get(url)\n",
      "  File \"E:\\pack2\\Anaconda\\tool\\lib\\site-packages\\requests\\api.py\", line 76, in get\n",
      "HTTPSConnectionPool(host='raw.githubusercontent.com', port=443): Max retries exceeded with url: /asu-trans-ai-lab/MapMatching4GMNS/master/release/node.csv (Caused by NewConnectionError('<urllib3.connection.HTTPSConnection object at 0x00000282BA176190>: Failed to establish a new connection: [Errno 11004] getaddrinfo failed'))\n",
      "\n",
      "During handling of the above exception, another exception occurred:\n",
      "\n",
      "Traceback (most recent call last):\n",
      "  File \"E:\\code\\zhou8\\MapMatching4GMNS\\MapMatching4GMNS\\MapMatching4GMNS.py\", line 64, in _download_url\n",
      "    r = requests.get(url)    \n",
      "  File \"E:\\pack2\\Anaconda\\tool\\lib\\site-packages\\requests\\api.py\", line 76, in get\n",
      "r = requests.get(url)\n",
      "  File \"E:\\pack2\\Anaconda\\tool\\lib\\site-packages\\requests\\api.py\", line 76, in get\n",
      "        return request('get', url, params=params, **kwargs)\n",
      "  File \"E:\\pack2\\Anaconda\\tool\\lib\\site-packages\\requests\\api.py\", line 61, in request\n",
      "    return request('get', url, params=params, **kwargs)\n",
      "  File \"E:\\pack2\\Anaconda\\tool\\lib\\site-packages\\requests\\api.py\", line 61, in request\n",
      "return request('get', url, params=params, **kwargs)\n",
      "    return session.request(method=method, url=url, **kwargs)\n",
      "  File \"E:\\pack2\\Anaconda\\tool\\lib\\site-packages\\requests\\sessions.py\", line 530, in request\n",
      "      File \"E:\\pack2\\Anaconda\\tool\\lib\\site-packages\\requests\\api.py\", line 61, in request\n",
      "return session.request(method=method, url=url, **kwargs)\n",
      "  File \"E:\\pack2\\Anaconda\\tool\\lib\\site-packages\\requests\\sessions.py\", line 530, in request\n",
      "    return session.request(method=method, url=url, **kwargs)\n",
      "  File \"E:\\pack2\\Anaconda\\tool\\lib\\site-packages\\requests\\sessions.py\", line 530, in request\n",
      "        resp = self.send(prep, **send_kwargs)\n",
      "  File \"E:\\pack2\\Anaconda\\tool\\lib\\site-packages\\requests\\sessions.py\", line 643, in send\n",
      "resp = self.send(prep, **send_kwargs)\n",
      "  File \"E:\\pack2\\Anaconda\\tool\\lib\\site-packages\\requests\\sessions.py\", line 643, in send\n",
      "    resp = self.send(prep, **send_kwargs)\n",
      "  File \"E:\\pack2\\Anaconda\\tool\\lib\\site-packages\\requests\\sessions.py\", line 643, in send\n",
      "        r = adapter.send(request, **kwargs)r = adapter.send(request, **kwargs)\n",
      "  File \"E:\\pack2\\Anaconda\\tool\\lib\\site-packages\\requests\\adapters.py\", line 516, in send\n",
      "    \n",
      "  File \"E:\\pack2\\Anaconda\\tool\\lib\\site-packages\\requests\\adapters.py\", line 516, in send\n",
      "r = adapter.send(request, **kwargs)\n",
      "  File \"E:\\pack2\\Anaconda\\tool\\lib\\site-packages\\requests\\adapters.py\", line 516, in send\n",
      "    raise ConnectionError(e, request=request)\n",
      "    requests.exceptions.raise ConnectionError(e, request=request)\n",
      "requests.exceptions.ConnectionError: HTTPSConnectionPool(host='raw.githubusercontent.com', port=443): Max retries exceeded with url: /asu-trans-ai-lab/MapMatching4GMNS/master/release/trace.csv (Caused by NewConnectionError('<urllib3.connection.HTTPSConnection object at 0x00000282BA1762E0>: Failed to establish a new connection: [Errno 11004] getaddrinfo failed'))\n",
      "\n",
      "During handling of the above exception, another exception occurred:\n",
      "\n",
      "Traceback (most recent call last):\n",
      "  File \"E:\\pack2\\Anaconda\\tool\\lib\\threading.py\", line 932, in _bootstrap_inner\n",
      "ConnectionError: HTTPSConnectionPool(host='raw.githubusercontent.com', port=443): Max retries exceeded with url: /asu-trans-ai-lab/MapMatching4GMNS/master/release/node.csv (Caused by NewConnectionError('<urllib3.connection.HTTPSConnection object at 0x00000282BA176190>: Failed to establish a new connection: [Errno 11004] getaddrinfo failed'))\n",
      "\n",
      "During handling of the above exception, another exception occurred:\n",
      "\n",
      "Traceback (most recent call last):\n",
      "  File \"E:\\pack2\\Anaconda\\tool\\lib\\threading.py\", line 932, in _bootstrap_inner\n",
      "    raise ConnectionError(e, request=request)\n",
      "requests.exceptions.ConnectionError: HTTPSConnectionPool(host='raw.githubusercontent.com', port=443): Max retries exceeded with url: /asu-trans-ai-lab/MapMatching4GMNS/master/release/link.csv (Caused by NewConnectionError('<urllib3.connection.HTTPSConnection object at 0x00000282BA163FA0>: Failed to establish a new connection: [Errno 11004] getaddrinfo failed'))\n",
      "\n",
      "During handling of the above exception, another exception occurred:\n",
      "\n",
      "Traceback (most recent call last):\n",
      "  File \"E:\\pack2\\Anaconda\\tool\\lib\\threading.py\", line 932, in _bootstrap_inner\n",
      "        self.run()\n",
      "  File \"E:\\pack2\\Anaconda\\tool\\lib\\threading.py\", line 870, in run\n",
      "    self.run()\n",
      "  File \"E:\\pack2\\Anaconda\\tool\\lib\\threading.py\", line 870, in run\n",
      "self.run()    self._target(*self._args, **self._kwargs)\n",
      "\n",
      "  File \"E:\\code\\zhou8\\MapMatching4GMNS\\MapMatching4GMNS\\MapMatching4GMNS.py\", line 71, in _download_url\n",
      "  File \"E:\\pack2\\Anaconda\\tool\\lib\\threading.py\", line 870, in run\n",
      "        self._target(*self._args, **self._kwargs)\n",
      "  File \"E:\\code\\zhou8\\MapMatching4GMNS\\MapMatching4GMNS\\MapMatching4GMNS.py\", line 71, in _download_url\n",
      "raise Exception(\n",
      "Exception: check your connectcion!!! Then, if the input data exists, copy the data from local system\n"
     ]
    },
    {
     "name": "stderr",
     "output_type": "stream",
     "text": [
      "        self._target(*self._args, **self._kwargs)\n",
      "  File \"E:\\code\\zhou8\\MapMatching4GMNS\\MapMatching4GMNS\\MapMatching4GMNS.py\", line 71, in _download_url\n",
      "raise Exception(\n",
      "Exception: check your connectcion!!! Then, if the input data exists, copy the data from local system\n",
      "    raise Exception(\n",
      "Exception: check your connectcion!!! Then, if the input data exists, copy the data from local system\n"
     ]
    },
    {
     "name": "stdout",
     "output_type": "stream",
     "text": [
      "downloading completes\n",
      "check E:\\code\\zhou8\\MapMatching4GMNS\\master for downloaded data sets\n"
     ]
    },
    {
     "ename": "FileNotFoundError",
     "evalue": "[Errno 2] No such file or directory: 'E:\\\\code\\\\zhou8\\\\MapMatching4GMNS/master/release/node.csv'",
     "output_type": "error",
     "traceback": [
      "\u001b[1;31m---------------------------------------------------------------------------\u001b[0m",
      "\u001b[1;31mFileNotFoundError\u001b[0m                         Traceback (most recent call last)",
      "\u001b[1;32m<ipython-input-3-cfdc3e642577>\u001b[0m in \u001b[0;36m<module>\u001b[1;34m\u001b[0m\n\u001b[1;32m----> 1\u001b[1;33m \u001b[0mMapMatching4GMNS\u001b[0m\u001b[1;33m.\u001b[0m\u001b[0mdownload_sample_data_sets_from_network\u001b[0m\u001b[1;33m(\u001b[0m\u001b[1;33m)\u001b[0m\u001b[1;33m\u001b[0m\u001b[1;33m\u001b[0m\u001b[0m\n\u001b[0m",
      "\u001b[1;32mE:\\code\\zhou8\\MapMatching4GMNS\\MapMatching4GMNS\\MapMatching4GMNS.py\u001b[0m in \u001b[0;36mdownload_sample_data_sets_from_network\u001b[1;34m()\u001b[0m\n\u001b[0;32m    124\u001b[0m         \u001b[0mfilePath\u001b[0m \u001b[1;33m=\u001b[0m \u001b[0mos\u001b[0m\u001b[1;33m.\u001b[0m\u001b[0mpath\u001b[0m\u001b[1;33m.\u001b[0m\u001b[0mjoin\u001b[0m\u001b[1;33m(\u001b[0m\u001b[0mos\u001b[0m\u001b[1;33m.\u001b[0m\u001b[0mgetcwd\u001b[0m\u001b[1;33m(\u001b[0m\u001b[1;33m)\u001b[0m\u001b[1;33m+\u001b[0m\u001b[1;34m\"/master/release\"\u001b[0m\u001b[1;33m)\u001b[0m\u001b[1;33m\u001b[0m\u001b[1;33m\u001b[0m\u001b[0m\n\u001b[0;32m    125\u001b[0m         \u001b[0mcurrentPath\u001b[0m \u001b[1;33m=\u001b[0m \u001b[0mos\u001b[0m\u001b[1;33m.\u001b[0m\u001b[0mpath\u001b[0m\u001b[1;33m.\u001b[0m\u001b[0mjoin\u001b[0m\u001b[1;33m(\u001b[0m\u001b[0mos\u001b[0m\u001b[1;33m.\u001b[0m\u001b[0mgetcwd\u001b[0m\u001b[1;33m(\u001b[0m\u001b[1;33m)\u001b[0m\u001b[1;33m)\u001b[0m\u001b[1;33m\u001b[0m\u001b[1;33m\u001b[0m\u001b[0m\n\u001b[1;32m--> 126\u001b[1;33m         \u001b[0mshutil\u001b[0m\u001b[1;33m.\u001b[0m\u001b[0mcopy\u001b[0m\u001b[1;33m(\u001b[0m\u001b[0mfilePath\u001b[0m\u001b[1;33m+\u001b[0m\u001b[1;34m'/node.csv'\u001b[0m\u001b[1;33m,\u001b[0m \u001b[0mcurrentPath\u001b[0m\u001b[1;33m)\u001b[0m\u001b[1;33m\u001b[0m\u001b[1;33m\u001b[0m\u001b[0m\n\u001b[0m\u001b[0;32m    127\u001b[0m         \u001b[0mshutil\u001b[0m\u001b[1;33m.\u001b[0m\u001b[0mcopy\u001b[0m\u001b[1;33m(\u001b[0m\u001b[0mfilePath\u001b[0m\u001b[1;33m+\u001b[0m\u001b[1;34m'/link.csv'\u001b[0m\u001b[1;33m,\u001b[0m \u001b[0mcurrentPath\u001b[0m\u001b[1;33m)\u001b[0m\u001b[1;33m\u001b[0m\u001b[1;33m\u001b[0m\u001b[0m\n\u001b[0;32m    128\u001b[0m         \u001b[0mshutil\u001b[0m\u001b[1;33m.\u001b[0m\u001b[0mcopy\u001b[0m\u001b[1;33m(\u001b[0m\u001b[0mfilePath\u001b[0m\u001b[1;33m+\u001b[0m\u001b[1;34m'/trace.csv'\u001b[0m\u001b[1;33m,\u001b[0m \u001b[0mcurrentPath\u001b[0m\u001b[1;33m)\u001b[0m\u001b[1;33m\u001b[0m\u001b[1;33m\u001b[0m\u001b[0m\n",
      "\u001b[1;32mE:\\pack2\\Anaconda\\tool\\lib\\shutil.py\u001b[0m in \u001b[0;36mcopy\u001b[1;34m(src, dst, follow_symlinks)\u001b[0m\n\u001b[0;32m    413\u001b[0m     \u001b[1;32mif\u001b[0m \u001b[0mos\u001b[0m\u001b[1;33m.\u001b[0m\u001b[0mpath\u001b[0m\u001b[1;33m.\u001b[0m\u001b[0misdir\u001b[0m\u001b[1;33m(\u001b[0m\u001b[0mdst\u001b[0m\u001b[1;33m)\u001b[0m\u001b[1;33m:\u001b[0m\u001b[1;33m\u001b[0m\u001b[1;33m\u001b[0m\u001b[0m\n\u001b[0;32m    414\u001b[0m         \u001b[0mdst\u001b[0m \u001b[1;33m=\u001b[0m \u001b[0mos\u001b[0m\u001b[1;33m.\u001b[0m\u001b[0mpath\u001b[0m\u001b[1;33m.\u001b[0m\u001b[0mjoin\u001b[0m\u001b[1;33m(\u001b[0m\u001b[0mdst\u001b[0m\u001b[1;33m,\u001b[0m \u001b[0mos\u001b[0m\u001b[1;33m.\u001b[0m\u001b[0mpath\u001b[0m\u001b[1;33m.\u001b[0m\u001b[0mbasename\u001b[0m\u001b[1;33m(\u001b[0m\u001b[0msrc\u001b[0m\u001b[1;33m)\u001b[0m\u001b[1;33m)\u001b[0m\u001b[1;33m\u001b[0m\u001b[1;33m\u001b[0m\u001b[0m\n\u001b[1;32m--> 415\u001b[1;33m     \u001b[0mcopyfile\u001b[0m\u001b[1;33m(\u001b[0m\u001b[0msrc\u001b[0m\u001b[1;33m,\u001b[0m \u001b[0mdst\u001b[0m\u001b[1;33m,\u001b[0m \u001b[0mfollow_symlinks\u001b[0m\u001b[1;33m=\u001b[0m\u001b[0mfollow_symlinks\u001b[0m\u001b[1;33m)\u001b[0m\u001b[1;33m\u001b[0m\u001b[1;33m\u001b[0m\u001b[0m\n\u001b[0m\u001b[0;32m    416\u001b[0m     \u001b[0mcopymode\u001b[0m\u001b[1;33m(\u001b[0m\u001b[0msrc\u001b[0m\u001b[1;33m,\u001b[0m \u001b[0mdst\u001b[0m\u001b[1;33m,\u001b[0m \u001b[0mfollow_symlinks\u001b[0m\u001b[1;33m=\u001b[0m\u001b[0mfollow_symlinks\u001b[0m\u001b[1;33m)\u001b[0m\u001b[1;33m\u001b[0m\u001b[1;33m\u001b[0m\u001b[0m\n\u001b[0;32m    417\u001b[0m     \u001b[1;32mreturn\u001b[0m \u001b[0mdst\u001b[0m\u001b[1;33m\u001b[0m\u001b[1;33m\u001b[0m\u001b[0m\n",
      "\u001b[1;32mE:\\pack2\\Anaconda\\tool\\lib\\shutil.py\u001b[0m in \u001b[0;36mcopyfile\u001b[1;34m(src, dst, follow_symlinks)\u001b[0m\n\u001b[0;32m    259\u001b[0m         \u001b[0mos\u001b[0m\u001b[1;33m.\u001b[0m\u001b[0msymlink\u001b[0m\u001b[1;33m(\u001b[0m\u001b[0mos\u001b[0m\u001b[1;33m.\u001b[0m\u001b[0mreadlink\u001b[0m\u001b[1;33m(\u001b[0m\u001b[0msrc\u001b[0m\u001b[1;33m)\u001b[0m\u001b[1;33m,\u001b[0m \u001b[0mdst\u001b[0m\u001b[1;33m)\u001b[0m\u001b[1;33m\u001b[0m\u001b[1;33m\u001b[0m\u001b[0m\n\u001b[0;32m    260\u001b[0m     \u001b[1;32melse\u001b[0m\u001b[1;33m:\u001b[0m\u001b[1;33m\u001b[0m\u001b[1;33m\u001b[0m\u001b[0m\n\u001b[1;32m--> 261\u001b[1;33m         \u001b[1;32mwith\u001b[0m \u001b[0mopen\u001b[0m\u001b[1;33m(\u001b[0m\u001b[0msrc\u001b[0m\u001b[1;33m,\u001b[0m \u001b[1;34m'rb'\u001b[0m\u001b[1;33m)\u001b[0m \u001b[1;32mas\u001b[0m \u001b[0mfsrc\u001b[0m\u001b[1;33m,\u001b[0m \u001b[0mopen\u001b[0m\u001b[1;33m(\u001b[0m\u001b[0mdst\u001b[0m\u001b[1;33m,\u001b[0m \u001b[1;34m'wb'\u001b[0m\u001b[1;33m)\u001b[0m \u001b[1;32mas\u001b[0m \u001b[0mfdst\u001b[0m\u001b[1;33m:\u001b[0m\u001b[1;33m\u001b[0m\u001b[1;33m\u001b[0m\u001b[0m\n\u001b[0m\u001b[0;32m    262\u001b[0m             \u001b[1;31m# macOS\u001b[0m\u001b[1;33m\u001b[0m\u001b[1;33m\u001b[0m\u001b[1;33m\u001b[0m\u001b[0m\n\u001b[0;32m    263\u001b[0m             \u001b[1;32mif\u001b[0m \u001b[0m_HAS_FCOPYFILE\u001b[0m\u001b[1;33m:\u001b[0m\u001b[1;33m\u001b[0m\u001b[1;33m\u001b[0m\u001b[0m\n",
      "\u001b[1;31mFileNotFoundError\u001b[0m: [Errno 2] No such file or directory: 'E:\\\\code\\\\zhou8\\\\MapMatching4GMNS/master/release/node.csv'"
     ]
    }
   ],
   "source": [
    "# If you have good Internet speed (e.g. you can access Google), you can download the input date by the following function,\n",
    "# MapMatching4GMNS.download_sample_data_sets_from_network()\n",
    "\n",
    "# otherwise, you can manually download the input data from the website (https://github.com/asu-trans-ai-lab/MapMatching4GMNS/tree/master/datasets/ASU)."
   ]
  },
  {
   "cell_type": "code",
   "execution_count": 3,
   "metadata": {
    "colab": {
     "base_uri": "https://localhost:8080/"
    },
    "id": "KGUM7oCrWIDY",
    "outputId": "81c968ce-37d5-435b-abea-d8d2580155a8"
   },
   "outputs": [
    {
     "name": "stdout",
     "output_type": "stream",
     "text": [
      "call MapMatching4GMNS  dynamic library\n",
      "\\MapMatching4GMNS run starts\n",
      "\\MapMatching4GMNS run completes\n",
      "MapMatching4GMNS time cost: 1.753337 seconds\n",
      "The output data is generated!\n"
     ]
    }
   ],
   "source": [
    "if __name__ == \"__main__\":\n",
    "    #If the output data exists, please remove.\n",
    "    if(os.path.exists(\"agent.csv\")):\n",
    "       os.remove(\"agent.csv\")\n",
    "    if(os.path.exists(\"link_likelihood.csv\")):\n",
    "       os.remove(\"link_likelihood.csv\")   \n",
    "    if(os.path.exists(\"route.csv\")):\n",
    "       os.remove(\"route.csv\")   \n",
    "    if(os.path.exists(\"trace_processing.csv\")):\n",
    "       os.remove(\"trace_processing.csv\")   \n",
    "\n",
    "    start = time.time()\n",
    "    MapMatching4GMNS.map_match()\n",
    "    end = time.time()\n",
    "    \n",
    "    print('MapMatching4GMNS time cost: %.6f seconds' % (end - start))\n",
    "    print(\"The output data is generated!\")"
   ]
  },
  {
   "cell_type": "markdown",
   "metadata": {
    "id": "iuvhlU8M6ZPG"
   },
   "source": [
    "if you use google.colab, you can donwload result data"
   ]
  },
  {
   "cell_type": "code",
   "execution_count": 5,
   "metadata": {
    "colab": {
     "base_uri": "https://localhost:8080/",
     "height": 17
    },
    "id": "xA_cV2fS6Z7X",
    "outputId": "ffd4ac16-8e86-4b9b-8e4f-a96b18cc3a66"
   },
   "outputs": [
    {
     "data": {
      "application/javascript": [
       "\n",
       "    async function download(id, filename, size) {\n",
       "      if (!google.colab.kernel.accessAllowed) {\n",
       "        return;\n",
       "      }\n",
       "      const div = document.createElement('div');\n",
       "      const label = document.createElement('label');\n",
       "      label.textContent = `Downloading \"${filename}\": `;\n",
       "      div.appendChild(label);\n",
       "      const progress = document.createElement('progress');\n",
       "      progress.max = size;\n",
       "      div.appendChild(progress);\n",
       "      document.body.appendChild(div);\n",
       "\n",
       "      const buffers = [];\n",
       "      let downloaded = 0;\n",
       "\n",
       "      const channel = await google.colab.kernel.comms.open(id);\n",
       "      // Send a message to notify the kernel that we're ready.\n",
       "      channel.send({})\n",
       "\n",
       "      for await (const message of channel.messages) {\n",
       "        // Send a message to notify the kernel that we're ready.\n",
       "        channel.send({})\n",
       "        if (message.buffers) {\n",
       "          for (const buffer of message.buffers) {\n",
       "            buffers.push(buffer);\n",
       "            downloaded += buffer.byteLength;\n",
       "            progress.value = downloaded;\n",
       "          }\n",
       "        }\n",
       "      }\n",
       "      const blob = new Blob(buffers, {type: 'application/binary'});\n",
       "      const a = document.createElement('a');\n",
       "      a.href = window.URL.createObjectURL(blob);\n",
       "      a.download = filename;\n",
       "      div.appendChild(a);\n",
       "      a.click();\n",
       "      div.remove();\n",
       "    }\n",
       "  "
      ],
      "text/plain": [
       "<IPython.core.display.Javascript object>"
      ]
     },
     "metadata": {
      "tags": []
     },
     "output_type": "display_data"
    },
    {
     "data": {
      "application/javascript": [
       "download(\"download_8ea50e31-5b9d-44f2-a587-171ca6831029\", \"agent.csv\", 5873)"
      ],
      "text/plain": [
       "<IPython.core.display.Javascript object>"
      ]
     },
     "metadata": {
      "tags": []
     },
     "output_type": "display_data"
    },
    {
     "data": {
      "application/javascript": [
       "\n",
       "    async function download(id, filename, size) {\n",
       "      if (!google.colab.kernel.accessAllowed) {\n",
       "        return;\n",
       "      }\n",
       "      const div = document.createElement('div');\n",
       "      const label = document.createElement('label');\n",
       "      label.textContent = `Downloading \"${filename}\": `;\n",
       "      div.appendChild(label);\n",
       "      const progress = document.createElement('progress');\n",
       "      progress.max = size;\n",
       "      div.appendChild(progress);\n",
       "      document.body.appendChild(div);\n",
       "\n",
       "      const buffers = [];\n",
       "      let downloaded = 0;\n",
       "\n",
       "      const channel = await google.colab.kernel.comms.open(id);\n",
       "      // Send a message to notify the kernel that we're ready.\n",
       "      channel.send({})\n",
       "\n",
       "      for await (const message of channel.messages) {\n",
       "        // Send a message to notify the kernel that we're ready.\n",
       "        channel.send({})\n",
       "        if (message.buffers) {\n",
       "          for (const buffer of message.buffers) {\n",
       "            buffers.push(buffer);\n",
       "            downloaded += buffer.byteLength;\n",
       "            progress.value = downloaded;\n",
       "          }\n",
       "        }\n",
       "      }\n",
       "      const blob = new Blob(buffers, {type: 'application/binary'});\n",
       "      const a = document.createElement('a');\n",
       "      a.href = window.URL.createObjectURL(blob);\n",
       "      a.download = filename;\n",
       "      div.appendChild(a);\n",
       "      a.click();\n",
       "      div.remove();\n",
       "    }\n",
       "  "
      ],
      "text/plain": [
       "<IPython.core.display.Javascript object>"
      ]
     },
     "metadata": {
      "tags": []
     },
     "output_type": "display_data"
    },
    {
     "data": {
      "application/javascript": [
       "download(\"download_36fda894-ae09-4ace-b18f-f5258b96aa2e\", \"input_agent.csv\", 5017)"
      ],
      "text/plain": [
       "<IPython.core.display.Javascript object>"
      ]
     },
     "metadata": {
      "tags": []
     },
     "output_type": "display_data"
    },
    {
     "data": {
      "application/javascript": [
       "\n",
       "    async function download(id, filename, size) {\n",
       "      if (!google.colab.kernel.accessAllowed) {\n",
       "        return;\n",
       "      }\n",
       "      const div = document.createElement('div');\n",
       "      const label = document.createElement('label');\n",
       "      label.textContent = `Downloading \"${filename}\": `;\n",
       "      div.appendChild(label);\n",
       "      const progress = document.createElement('progress');\n",
       "      progress.max = size;\n",
       "      div.appendChild(progress);\n",
       "      document.body.appendChild(div);\n",
       "\n",
       "      const buffers = [];\n",
       "      let downloaded = 0;\n",
       "\n",
       "      const channel = await google.colab.kernel.comms.open(id);\n",
       "      // Send a message to notify the kernel that we're ready.\n",
       "      channel.send({})\n",
       "\n",
       "      for await (const message of channel.messages) {\n",
       "        // Send a message to notify the kernel that we're ready.\n",
       "        channel.send({})\n",
       "        if (message.buffers) {\n",
       "          for (const buffer of message.buffers) {\n",
       "            buffers.push(buffer);\n",
       "            downloaded += buffer.byteLength;\n",
       "            progress.value = downloaded;\n",
       "          }\n",
       "        }\n",
       "      }\n",
       "      const blob = new Blob(buffers, {type: 'application/binary'});\n",
       "      const a = document.createElement('a');\n",
       "      a.href = window.URL.createObjectURL(blob);\n",
       "      a.download = filename;\n",
       "      div.appendChild(a);\n",
       "      a.click();\n",
       "      div.remove();\n",
       "    }\n",
       "  "
      ],
      "text/plain": [
       "<IPython.core.display.Javascript object>"
      ]
     },
     "metadata": {
      "tags": []
     },
     "output_type": "display_data"
    },
    {
     "data": {
      "application/javascript": [
       "download(\"download_054fb88b-5989-4215-bb70-061869bb054b\", \"link_performance.csv\", 8734)"
      ],
      "text/plain": [
       "<IPython.core.display.Javascript object>"
      ]
     },
     "metadata": {
      "tags": []
     },
     "output_type": "display_data"
    }
   ],
   "source": [
    "# from google.colab import files\n",
    "# if(os.path.exists(\"agent.csv\")):\n",
    "#  files.download(\"/content/agent.csv\")\n",
    "# if(os.path.exists(\"input_agent.csv\")):\n",
    "#  files.download(\"/content/input_agent.csv\")\n",
    "# if(os.path.exists(\"link_performance.csv\")):\n",
    "#  files.download(\"/content/link_performance.csv\")"
   ]
  }
 ],
 "metadata": {
  "colab": {
   "collapsed_sections": [],
   "include_colab_link": true,
   "name": "MapMatching4GMNS.ipynb",
   "provenance": [],
   "toc_visible": true
  },
  "kernelspec": {
   "display_name": "Python 3",
   "language": "python",
   "name": "python3"
  },
  "language_info": {
   "codemirror_mode": {
    "name": "ipython",
    "version": 3
   },
   "file_extension": ".py",
   "mimetype": "text/x-python",
   "name": "python",
   "nbconvert_exporter": "python",
   "pygments_lexer": "ipython3",
   "version": "3.6.1"
  }
 },
 "nbformat": 4,
 "nbformat_minor": 1
}
